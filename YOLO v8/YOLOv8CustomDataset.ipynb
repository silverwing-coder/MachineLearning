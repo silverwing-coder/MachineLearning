{
 "cells": [
  {
   "cell_type": "markdown",
   "metadata": {},
   "source": [
    "<h4>ver. Dec-2023</h4>\n",
    "\n",
    "<h3> [YOLO v8] Object Detection on Custom Dataset</h3>\n",
    "\n",
    "Refer to \n",
    "1. [Ultralytics YOLO v8 Document](https://docs.ultralytics.com/)\n",
    "2. [CV Engineer's YOLOv8 Tutorial on YouTube](https://www.youtube.com/watch?v=m9fH9OWn8YM) \n",
    "\n",
    "<h4>Processes</h4>\n",
    "\n",
    "1. Collect Datasets for Threent Different Modes: <b>:framed_picture: [Open Image Dataset](https://storage.googleapis.com/openimages/web/download_v7.html):framed_picture:</b>\n",
    "\n",
    "    - Training Dataset\n",
    "    - Validation Dataset\n",
    "    - Test Dataset (Optional)\n",
    "2. Annotate Object for *.yaml File Createion: <b>:fountain_pen: [CVAT Open Data Annotation Platform](https://www.cvat.ai/):fountain_pen:</b>\n",
    "\n",
    "     - Sign up to CVAT (Create an account)\n",
    "     - Create a project\n",
    "     - Set label(s)\n",
    "     - Create a task\n",
    "     - Upload all images for annotation\n",
    "     - while (end of the list of images) \n",
    "        - Select class id (name of object)\n",
    "        - Select (highlight/enclose) all objects on an image for annotation\n",
    "    - Tasks -> Export task -> Export task # as a dataset\n",
    "        - Export format: YOLO // \"All different formats must be translated into YOLO format\"\n",
    "3. Save Images and Annotation Data for Each Mode \n",
    "    - Check two folders of \"images/train\" and \"labels/train\"\n",
    "4. Create the \"you_name_it.yaml\" for test / validation environment configuration\n",
    "\n",
    "    ```py\n",
    "    path: absolute_path_to_the_directory_of_data_set_root\n",
    "    train: relative_path_to_train_images\n",
    "    val: relative_path_to_validation_images\n",
    "\n",
    "    # Object classes\n",
    "    names:\n",
    "        0: object_name\n",
    "    ```"
   ]
  },
  {
   "cell_type": "code",
   "execution_count": null,
   "metadata": {
    "vscode": {
     "languageId": "plaintext"
    }
   },
   "outputs": [],
   "source": [
    "from ultralytics import YOLO\n",
    "\n",
    "# load a model\n",
    "model = YOLO(\"yolov8n.yaml\")    # build a network from scratch\n",
    "\n",
    "# use the model\n",
    "results = model.train(data=\"config.yaml\", epoch = 10) # train the model\n"
   ]
  },
  {
   "cell_type": "code",
   "execution_count": null,
   "metadata": {
    "vscode": {
     "languageId": "plaintext"
    }
   },
   "outputs": [],
   "source": []
  }
 ],
 "metadata": {
  "language_info": {
   "name": "python"
  }
 },
 "nbformat": 4,
 "nbformat_minor": 2
}
