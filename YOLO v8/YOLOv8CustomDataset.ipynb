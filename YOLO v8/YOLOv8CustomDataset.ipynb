{
 "cells": [
  {
   "cell_type": "markdown",
   "metadata": {
    "tags": []
   },
   "source": [
    "<h4>ver. Dec-2023</h4>\n",
    "\n",
    "<h3> [YOLO v8] Object Detection on Custom Dataset</h3>\n",
    "\n",
    "Refer to \n",
    "1. [Ultralytics YOLO v8 Document](https://docs.ultralytics.com/)\n",
    "2. [CV Engineer's YOLOv8 Tutorial on YouTube](https://www.youtube.com/watch?v=m9fH9OWn8YM) \n",
    "\n",
    "<u><h4>Procedures</h4></u>\n",
    "\n",
    "1. Collect Datasets for Threent Different Modes: <b>[Open Image Dataset](https://storage.googleapis.com/openimages/web/download_v7.html)🎴</b>\n",
    "\n",
    "        - Training Dataset\n",
    "        - Validation Dataset\n",
    "        - Test Dataset (Optional)\n",
    "        \n",
    "2. Annotate Objects: <b>[CVAT Open Data Annotation Platform](https://www.cvat.ai/)📝</b>\n",
    "\n",
    "         A. Sign up to CVAT (Create an account)\n",
    "         B. Create a project\n",
    "         C. Set label(s)\n",
    "         D. Create a task\n",
    "         E. Upload all images for annotation\n",
    "         F. while (end of the list of images) \n",
    "            - Select class id (name of object)\n",
    "            - Select (highlight/enclose) all objects on an image for annotation\n",
    "         G. Tasks -> Export task -> Export task # as a dataset\n",
    "            - Export format: YOLO // \"All different formats must be translated into YOLO format\"\n",
    "        \n",
    "3. Save Images and Annotation Data for Each Mode \n",
    "\n",
    "        - Check two folders of \"images/train\" and \"labels/train\"\n",
    "          \n",
    "4. Create the \"you_name_it.yaml\" for test / validation environment configuration\n",
    "\n",
    "        `````````````````````````````````````````````````````````````````````````\n",
    "        path: absolute_path_to_the_directory_of_data_set_root\n",
    "        train: relative_path_to_train_images\n",
    "        val: relative_path_to_validation_images\n",
    "\n",
    "        # Object classes\n",
    "        names:\n",
    "            0: object_name\n",
    "            \n",
    "        `````````````````````````````````````````````````````````````````````````\n",
    "    "
   ]
  },
  {
   "cell_type": "code",
   "execution_count": null,
   "metadata": {
    "vscode": {
     "languageId": "plaintext"
    }
   },
   "outputs": [],
   "source": [
    "from ultralytics import YOLO\n",
    "\n",
    "# load a model\n",
    "model = YOLO(\"yolov8n.yaml\")    # build a network from scratch\n",
    "\n",
    "# use the model\n",
    "results = model.train(data=\"config.yaml\", epoch = 10) # train the model\n"
   ]
  },
  {
   "cell_type": "code",
   "execution_count": null,
   "metadata": {
    "vscode": {
     "languageId": "plaintext"
    }
   },
   "outputs": [],
   "source": []
  }
 ],
 "metadata": {
  "kernelspec": {
   "display_name": "Python 3 (ipykernel)",
   "language": "python",
   "name": "python3"
  },
  "language_info": {
   "codemirror_mode": {
    "name": "ipython",
    "version": 3
   },
   "file_extension": ".py",
   "mimetype": "text/x-python",
   "name": "python",
   "nbconvert_exporter": "python",
   "pygments_lexer": "ipython3",
   "version": "3.10.5"
  }
 },
 "nbformat": 4,
 "nbformat_minor": 4
}
