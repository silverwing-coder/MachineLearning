{
 "cells": [
  {
   "cell_type": "markdown",
   "id": "60b2fdc3-3d9d-4b19-a517-d9519e845b96",
   "metadata": {},
   "source": [
    "<h3>Face Detection</h3>\n",
    "\n",
    "Pre-trained models are imported from [https://github.com/noorkhokhar99/face-detection-yolov8](https://github.com/noorkhokhar99/face-detection-yolov8)\n"
   ]
  },
  {
   "cell_type": "code",
   "execution_count": 2,
   "id": "90bf74e8-af46-488c-8a02-5b1eda052b3b",
   "metadata": {},
   "outputs": [],
   "source": [
    "import cv2\n",
    "from ultralytics import YOLO\n",
    "\n",
    "# Load the YOLOv8 model\n",
    "model = YOLO(\"./models/yolov8n-face.pt\")\n",
    "\n",
    "# Capture video camera (laptop)\n",
    "cap = cv2.VideoCapture(0)\n",
    "\n",
    "# Loop through the video frames\n",
    "while (cap.isOpened()):\n",
    "\n",
    "    # Load a frame from the capture\n",
    "    success, frame = cap.read()\n",
    "\n",
    "    if success:\n",
    "        # Run YOLO model and get the pose estimation data from the frame\n",
    "        # Detect person class: classes = 0\n",
    "        # No output on screen: verbose = False\n",
    "        results = model.predict(frame, save=False, imgsz=640, conf=0.25, classes=0, verbose=False)\n",
    " \n",
    "        # Visualize the results on the frame\n",
    "        annotated_frame = results[0].plot()\n",
    "\n",
    "        # Display the annotated frames\n",
    "        cv2.imshow(\"YOLO v8 Pose\", annotated_frame)\n",
    "\n",
    "        if (cv2.waitKey(1) == ord('q')):\n",
    "            break\n",
    "    else:\n",
    "        break\n",
    "\n",
    "# Release the resources and close all windows\n",
    "cap.release()\n",
    "cv2.destroyAllWindows()"
   ]
  },
  {
   "cell_type": "code",
   "execution_count": null,
   "id": "30a927af-8ee8-4081-a804-4b39659231f8",
   "metadata": {},
   "outputs": [],
   "source": []
  }
 ],
 "metadata": {
  "kernelspec": {
   "display_name": "Python 3 (ipykernel)",
   "language": "python",
   "name": "python3"
  },
  "language_info": {
   "codemirror_mode": {
    "name": "ipython",
    "version": 3
   },
   "file_extension": ".py",
   "mimetype": "text/x-python",
   "name": "python",
   "nbconvert_exporter": "python",
   "pygments_lexer": "ipython3",
   "version": "3.10.5"
  }
 },
 "nbformat": 4,
 "nbformat_minor": 5
}
